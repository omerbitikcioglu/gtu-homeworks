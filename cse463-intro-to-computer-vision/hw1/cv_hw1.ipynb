{
 "cells": [
  {
   "cell_type": "code",
   "execution_count": null,
   "id": "48addb39",
   "metadata": {},
   "outputs": [],
   "source": [
    "import cv2 as cv\n",
    "import sys\n",
    "import numpy as np"
   ]
  },
  {
   "cell_type": "markdown",
   "id": "5b5972a9",
   "metadata": {},
   "source": [
    "Imports"
   ]
  },
  {
   "cell_type": "code",
   "execution_count": null,
   "id": "2d3df5a4",
   "metadata": {},
   "outputs": [],
   "source": [
    "cam = cv.VideoCapture(0)\n",
    "\n",
    "windowTitle = \"CV HW1\"\n",
    "imagePath = \"soccer_field.png\"\n",
    "\n",
    "cv.namedWindow(windowTitle)\n",
    "\n",
    "while True:\n",
    "    ret, frame = cam.read()\n",
    "    if not ret:\n",
    "        print(\"failed to grab frame\")\n",
    "        break\n",
    "    cv.imshow(windowTitle, frame)\n",
    "\n",
    "    k = cv.waitKey(1)\n",
    "    if k%256 == 27:\n",
    "        # ESC pressed\n",
    "        print(\"Escape hit, closing...\")\n",
    "        break\n",
    "    elif k%256 == 32:\n",
    "        # SPACE pressed\n",
    "        cv.imwrite(imagePath, frame)\n",
    "        break\n",
    "cam.release()\n",
    "cv.destroyAllWindows()"
   ]
  },
  {
   "cell_type": "markdown",
   "id": "84e92b09",
   "metadata": {},
   "source": [
    "1.Take a picture of the soccer field."
   ]
  },
  {
   "cell_type": "code",
   "execution_count": null,
   "id": "9434290b",
   "metadata": {},
   "outputs": [],
   "source": [
    "# Read the taken picture of the soccer field\n",
    "img_orj = cv.imread(\"soccer_field.jpg\")\n",
    "if img_orj is None:\n",
    "    sys.exit(\"Could not read the image.\")\n",
    "\n",
    "numOfClicks = 0\n",
    "\n",
    "originalCorners = np.empty([4, 2], dtype=int)\n",
    "    \n",
    "# function to display the coordinates of the points clicked on the image\n",
    "def click_event(event, x, y, flags, params):\n",
    "    \n",
    "    # checking for left mouse clicks\n",
    "    if event == cv.EVENT_LBUTTONDOWN:\n",
    "        \n",
    "        global numOfClicks\n",
    "        global originalCorners\n",
    "        \n",
    "        # We need 4 corners\n",
    "        if numOfClicks<4:\n",
    "            cv.imshow(windowTitle, img_orj)\n",
    "            originalCorners[numOfClicks] = [x,y]\n",
    "        \n",
    "        else:\n",
    "            print(\"Four points are taken\")\n",
    "        \n",
    "        numOfClicks+=1\n",
    "\n",
    "    \n",
    "         \n",
    "# Show the picture and wait for user to mark the corners\n",
    "cv.putText(img_orj, 'Mark four corners of the soccer field', (50,50), cv.FONT_HERSHEY_SIMPLEX, 1, (0, 255, 0), 2)\n",
    "cv.imshow(windowTitle, img_orj)\n",
    "cv.setMouseCallback(windowTitle, click_event)\n",
    "cv.waitKey(0)\n",
    "cv.destroyAllWindows()\n"
   ]
  },
  {
   "cell_type": "markdown",
   "id": "5a2de836",
   "metadata": {},
   "source": [
    "2.Ask the user to mark four corners of the soccer field. Corner orders are important, so\n",
    "the user should mark them in the correct order."
   ]
  },
  {
   "cell_type": "code",
   "execution_count": null,
   "id": "10f5f49b",
   "metadata": {},
   "outputs": [],
   "source": [
    "# Read the taken picture of the soccer field\n",
    "img_src = cv.imread(imagePath)\n",
    "if img_src is None:\n",
    "    sys.exit(\"Could not read the image.\")\n",
    "\n",
    "numOfClicks = 0\n",
    "\n",
    "sourceCorners = np.empty_like(originalCorners)\n",
    "    \n",
    "# function to display the coordinates of the points clicked on the image\n",
    "def click_event(event, x, y, flags, params):\n",
    "    \n",
    "    # checking for left mouse clicks\n",
    "    if event == cv.EVENT_LBUTTONDOWN:\n",
    "        \n",
    "        global numOfClicks\n",
    "        global sourceCorners\n",
    "        \n",
    "        # We need 4 corners\n",
    "        if numOfClicks<4:\n",
    "            # displaying the coordinates on the image window\n",
    "            cv.imshow(windowTitle, img_src)\n",
    "            sourceCorners[numOfClicks] = [x,y]\n",
    "            \n",
    "        #elif numOfClicks == 3:\n",
    "            # find the 4th corner\n",
    "        #    fourthCorner = findFourth(sourceCorners[0], sourceCorners[1], sourceCorners[2])\n",
    "        #    sourceCorners[3] = fourthCorner\n",
    "        \n",
    "        else:\n",
    "            print(\"Four points are taken\")\n",
    "        \n",
    "        numOfClicks+=1\n",
    "        \n",
    "#def find_fourth(c1,c2,c3):\n",
    "    \n",
    "         \n",
    "# Show the picture and wait for user to mark the corners\n",
    "cv.putText(img_src, 'Mark four corners of the soccer field', (350,700), cv.FONT_HERSHEY_SIMPLEX, 1, (0, 255, 0), 2)\n",
    "cv.imshow(windowTitle, img_src)\n",
    "cv.setMouseCallback(windowTitle, click_event)\n",
    "cv.waitKey(0)\n",
    "cv.destroyAllWindows()"
   ]
  },
  {
   "cell_type": "markdown",
   "id": "de915f4b",
   "metadata": {},
   "source": [
    "3.To be able to find the homography, you need 4 points. For the 4 th point use the\n",
    "intersection of the parallel lines of the soccer field."
   ]
  },
  {
   "cell_type": "code",
   "execution_count": null,
   "id": "5d052821",
   "metadata": {},
   "outputs": [],
   "source": [
    "print(originalCorners)"
   ]
  },
  {
   "cell_type": "code",
   "execution_count": null,
   "id": "cb72c88f",
   "metadata": {},
   "outputs": [],
   "source": [
    "print(sourceCorners)"
   ]
  },
  {
   "cell_type": "code",
   "execution_count": null,
   "id": "68ae930a",
   "metadata": {},
   "outputs": [],
   "source": [
    "# Calculate Homography\n",
    "h, status = cv.findHomography(sourceCorners, originalCorners)"
   ]
  },
  {
   "cell_type": "markdown",
   "id": "d2ef08c8",
   "metadata": {},
   "source": [
    "4.Estimate a homography between the input image and the model soccer field. OpenCV\n",
    "functions findHomography or getPerspectiveTransform will be helpful."
   ]
  },
  {
   "cell_type": "code",
   "execution_count": null,
   "id": "5df32093",
   "metadata": {},
   "outputs": [],
   "source": [
    "# Warp source image to destination based on homography \n",
    "img_out = cv.warpPerspective(img_src, h, (img_orj.shape[1],img_orj.shape[0]))\n",
    "\n",
    "# Display images\n",
    "cv.imshow(\"Input\", img_src)\n",
    "cv.imshow(\"Output Model Field\", img_out)\n",
    "cv.waitKey(0)\n",
    "cv.destroyAllWindows()"
   ]
  },
  {
   "cell_type": "markdown",
   "id": "cc7b8ce6",
   "metadata": {},
   "source": [
    "5.Using the new transform, transform the input image and display the output as shown\n",
    "above. You may use OpenCV function perspectiveTransform."
   ]
  }
 ],
 "metadata": {
  "kernelspec": {
   "display_name": "Python 3 (ipykernel)",
   "language": "python",
   "name": "python3"
  },
  "language_info": {
   "codemirror_mode": {
    "name": "ipython",
    "version": 3
   },
   "file_extension": ".py",
   "mimetype": "text/x-python",
   "name": "python",
   "nbconvert_exporter": "python",
   "pygments_lexer": "ipython3",
   "version": "3.8.10"
  }
 },
 "nbformat": 4,
 "nbformat_minor": 5
}
